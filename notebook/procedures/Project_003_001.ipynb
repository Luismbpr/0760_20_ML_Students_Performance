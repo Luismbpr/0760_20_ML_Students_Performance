{
 "cells": [
  {
   "cell_type": "markdown",
   "id": "d0f6f511",
   "metadata": {},
   "source": [
    "Inside - src/components/model_trainer.py\n",
    "\n",
    "Train and test datasets\n",
    "Convert datasets into X Features and y target column\n",
    "import the processor pickle file\n",
    "transform the X Features (don't process the target column)\n",
    "\n",
    "Train the model\n",
    "Give all the models\n",
    "give all the params for all the models\n",
    "train using grid search CV\n",
    "Get the best metric\n",
    "- Create the function required for model evaluation\n",
    "- Get all the metrics\n",
    "- Get all the params\n",
    "\n",
    "```Python\n",
    "\n",
    "```"
   ]
  },
  {
   "cell_type": "code",
   "execution_count": null,
   "id": "79689e42",
   "metadata": {},
   "outputs": [],
   "source": []
  },
  {
   "cell_type": "markdown",
   "id": "1b247d7f",
   "metadata": {},
   "source": [
    "## Inside src/utils.py"
   ]
  },
  {
   "cell_type": "code",
   "execution_count": 2,
   "id": "a9cfa7d5",
   "metadata": {},
   "outputs": [],
   "source": [
    "import pandas as pd\n",
    "import numpy as np\n",
    "\n",
    "from sklearn.linear_model import LinearRegression\n",
    "from sklearn.tree import DecisionTreeRegressor\n",
    "from sklearn.neighbors import KNeighborsRegressor\n",
    "from sklearn.ensemble import (\n",
    "    AdaBoostRegressor,\n",
    "    GradientBoostingRegressor,\n",
    "    RandomForestRegressor\n",
    ")\n",
    "from catboost import CatBoostRegressor\n",
    "from xgboost import XGBRegressor\n",
    "\n",
    "models = {\n",
    "    \"LinearRegression\":LinearRegression(),\n",
    "    \"DecisionTreeRegressor\":DecisionTreeRegressor(),\n",
    "    \"KNeighborsRegressor\":KNeighborsRegressor(),\n",
    "    \"AdaBoostRegressor\":AdaBoostRegressor(),\n",
    "    \"GradientBoostingRegressor\":GradientBoostingRegressor(),\n",
    "    \"RandomForestRegressor\":RandomForestRegressor(),\n",
    "    \"CatBoostRegressor\":CatBoostRegressor(verbose=False),\n",
    "    \"XGBRegressor\":XGBRegressor(),\n",
    "}\n",
    "params={\n",
    "    \"Decision Tree\": {\n",
    "        'criterion':['squared_error', 'friedman_mse', 'absolute_error', 'poisson'],\n",
    "        #'splitter':['best','random'],\n",
    "        #'max_features':['sqrt','log2'],\n",
    "    },\n",
    "    \"Random Forest\":{\n",
    "        #'criterion':['squared_error', 'friedman_mse', 'absolute_error', 'poisson'],\n",
    "        #'max_features':['sqrt','log2',None],\n",
    "        'n_estimators': [8,16,32,64,128,256]\n",
    "    },\n",
    "    \"Gradient Boosting\":{\n",
    "        #'loss':['squared_error', 'huber', 'absolute_error', 'quantile'],\n",
    "        'learning_rate':[.1,.01,.05,.001],\n",
    "        'subsample':[0.6,0.7,0.75,0.8,0.85,0.9],\n",
    "        # #'criterion':['squared_error', 'friedman_mse'],\n",
    "        #'max_features':['auto','sqrt','log2'],\n",
    "        'n_estimators': [8,16,32,64,128,256]\n",
    "    },\n",
    "    \"Linear Regression\":{},\n",
    "    \"XGBRegressor\":{\n",
    "        'learning_rate':[.1,.01,.05,.001],\n",
    "        'n_estimators': [8,16,32,64,128,256]\n",
    "    },\n",
    "    \"CatBoosting Regressor\":{\n",
    "        'depth': [6,8,10],\n",
    "        'learning_rate': [0.01, 0.05, 0.1],\n",
    "        'iterations': [30, 50, 100]\n",
    "    },\n",
    "    \"AdaBoost Regressor\":{\n",
    "        'learning_rate':[.1,.01,0.5,.001],\n",
    "        #'loss':['linear','square','exponential'],\n",
    "        'n_estimators': [8,16,32,64,128,256]\n",
    "    }\n",
    "}"
   ]
  },
  {
   "cell_type": "code",
   "execution_count": null,
   "id": "3386cd93",
   "metadata": {},
   "outputs": [
    {
     "ename": "KeyError",
     "evalue": "'LinearRegression'",
     "output_type": "error",
     "traceback": [
      "\u001b[31m---------------------------------------------------------------------------\u001b[39m",
      "\u001b[31mKeyError\u001b[39m                                  Traceback (most recent call last)",
      "\u001b[36mCell\u001b[39m\u001b[36m \u001b[39m\u001b[32mIn[35]\u001b[39m\u001b[32m, line 9\u001b[39m\n\u001b[32m      1\u001b[39m \u001b[38;5;28;01mfor\u001b[39;00m i \u001b[38;5;129;01min\u001b[39;00m \u001b[38;5;28mrange\u001b[39m(\u001b[38;5;28mlen\u001b[39m(\u001b[38;5;28mlist\u001b[39m(models))):\n\u001b[32m      2\u001b[39m     \u001b[38;5;66;03m#model = list(models.values())[i]\u001b[39;00m\n\u001b[32m      3\u001b[39m     \u001b[38;5;66;03m#print(list(models.keys())[i])\u001b[39;00m\n\u001b[32m   (...)\u001b[39m\u001b[32m      7\u001b[39m     \u001b[38;5;66;03m#print(params[\"XGBRegressor\"])\u001b[39;00m\n\u001b[32m      8\u001b[39m     \u001b[38;5;66;03m#print(params[list(models.keys())[i]])\u001b[39;00m\n\u001b[32m----> \u001b[39m\u001b[32m9\u001b[39m     \u001b[38;5;28mprint\u001b[39m(\u001b[43mparams\u001b[49m\u001b[43m[\u001b[49m\u001b[33;43m\"\u001b[39;49m\u001b[33;43mLinearRegression\u001b[39;49m\u001b[33;43m\"\u001b[39;49m\u001b[43m]\u001b[49m)\n",
      "\u001b[31mKeyError\u001b[39m: 'LinearRegression'"
     ]
    }
   ],
   "source": [
    "for i in range(len(list(models))):\n",
    "    #model = list(models.values())[i]\n",
    "    #print(list(models.keys())[i])\n",
    "    #print(list(models.values())[i])\n",
    "    \n",
    "    #print(list(models.keys())[i])\n",
    "    #print(params[\"XGBRegressor\"])## This works\n",
    "    #print(params[list(models.keys())[i]])\n",
    "    #print(params[\"LinearRegression\"])### Error\n"
   ]
  },
  {
   "cell_type": "code",
   "execution_count": null,
   "id": "6642c379",
   "metadata": {},
   "outputs": [
    {
     "name": "stdout",
     "output_type": "stream",
     "text": [
      "0\n",
      "1\n",
      "2\n",
      "3\n",
      "4\n",
      "5\n",
      "6\n",
      "7\n"
     ]
    }
   ],
   "source": []
  },
  {
   "cell_type": "code",
   "execution_count": null,
   "id": "29e79d9d",
   "metadata": {},
   "outputs": [],
   "source": []
  }
 ],
 "metadata": {
  "kernelspec": {
   "display_name": "venv_0760_20_01_ML_StudPerf",
   "language": "python",
   "name": "python3"
  },
  "language_info": {
   "codemirror_mode": {
    "name": "ipython",
    "version": 3
   },
   "file_extension": ".py",
   "mimetype": "text/x-python",
   "name": "python",
   "nbconvert_exporter": "python",
   "pygments_lexer": "ipython3",
   "version": "3.11.11"
  }
 },
 "nbformat": 4,
 "nbformat_minor": 5
}
