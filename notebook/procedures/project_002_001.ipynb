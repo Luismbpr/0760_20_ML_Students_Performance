{
 "cells": [
  {
   "cell_type": "markdown",
   "id": "d30c30d4",
   "metadata": {},
   "source": [
    "### EDA\n",
    "EDA Goes into further detail\n",
    "* notebook/Project_EDA_001_001.ipynb\n",
    "* notebook/Project_EDA_002_001.ipynb"
   ]
  },
  {
   "cell_type": "code",
   "execution_count": null,
   "id": "3192fcb9",
   "metadata": {
    "vscode": {
     "languageId": "plaintext"
    }
   },
   "outputs": [],
   "source": []
  },
  {
   "cell_type": "markdown",
   "id": "65e56508",
   "metadata": {},
   "source": [
    "### Notebook with model training\n",
    "\n",
    "notebook/Project_Model_Training.ipynb"
   ]
  },
  {
   "cell_type": "markdown",
   "id": "3359cb92",
   "metadata": {},
   "source": []
  },
  {
   "cell_type": "markdown",
   "id": "fbd3bf19",
   "metadata": {},
   "source": []
  },
  {
   "cell_type": "markdown",
   "id": "b2291e03",
   "metadata": {
    "vscode": {
     "languageId": "plaintext"
    }
   },
   "source": [
    "Inside data_ingestion.py - src/components/data_ingestion.py\n",
    "\n",
    "```python\n",
    "import os\n",
    "import sys\n",
    "import pandas as pd\n",
    "\n",
    "from sklearn.model_selection import train_test_split\n",
    "from dataclasses import dataclass\n",
    "\n",
    "from src.exception import CustomException\n",
    "from src.logger import logging\n",
    "\n",
    "@dataclass\n",
    "class DataIngestionConfig:\n",
    "    train_data_path: str = os.path.join('artifacts',\"train.csv\")\n",
    "    test_data_path: str = os.path.join('artifacts',\"test.csv\")\n",
    "    raw_data_path: str = os.path.join('artifacts', 'data.csv')\n",
    "\n",
    "class DataIngestion:\n",
    "    def __init__(self):\n",
    "        self.ingestion_config = DataIngestionConfig()\n",
    "    \n",
    "    def initiate_data_ingestion(self):\n",
    "        logging.info(\"Entered the data ingestion method or component\")\n",
    "        try:\n",
    "            #pass\n",
    "            df = pd.read_csv(\"notebooks/data/students_performance_0760.csv\")\n",
    "            logging.info(\"Reading the dataset as a DataFrame\")\n",
    "            \n",
    "            os.makedirs(os.path.dirname(self.ingestion_config.train_data_path), exist_ok=True)\n",
    "            \n",
    "            df.to_csv(self.ingestion_config.raw_data_path, index=False, header=True)\n",
    "\n",
    "            logging.info(\"Initiating Train Test Split\")\n",
    "            train_set, test_set = train_test_split(df, test_size=0.2, random_state=42)\n",
    "            logging.info(\"Train Test Split Complete\")\n",
    "            \n",
    "            train_set.to_csv(self.ingestion_config.train_data_path, index=False, header=True)\n",
    "            test_set.to_csv(self.ingestion_config.test_data_path, index=False, header=True)\n",
    "            #logging.info(\"Train and Test Set Saved\")\n",
    "            logging.info(\"Data Ingestion Complete\")\n",
    "            return(\n",
    "                self.ingestion_config.train_data_path,\n",
    "                self.ingestion_config.test_data_path\n",
    "            )\n",
    "        except Exception as e:\n",
    "            raise CustomException(e, sys)\n",
    "\n",
    "if __name__ == \"__main__\":\n",
    "    obj = DataIngestion()\n",
    "    train_data, test_data = obj.initiate_data_ingestion()\n",
    "```\n",
    "\n",
    "Testing it\n",
    "\n",
    "```Shell\n",
    "% python src/components/data_ingestion.py\n",
    "```\n",
    "\n",
    "Inside logs\n",
    "```Markdown\n",
    "logs/04_07_2025_16_13_09.log/04_07_2025_16_13_09.log\n",
    "[ 2025-04-07 16:13:09,068 ] 22 root - INFO - Entered the data ingestion method or component\n",
    "[ 2025-04-07 16:13:09,074 ] 26 root - INFO - Reading the dataset as a DataFrame\n",
    "[ 2025-04-07 16:13:09,076 ] 32 root - INFO - Initiating Train Test Split\n",
    "[ 2025-04-07 16:13:09,077 ] 34 root - INFO - Train Test Split Completed\n",
    "[ 2025-04-07 16:13:09,079 ] 38 root - INFO - Train and Test Set Saved\n",
    "[ 2025-04-07 16:13:09,079 ] 39 root - INFO - Data Ingestion Completed\n",
    "\n",
    "```\n"
   ]
  }
 ],
 "metadata": {
  "language_info": {
   "name": "python"
  }
 },
 "nbformat": 4,
 "nbformat_minor": 5
}
