{
 "cells": [
  {
   "cell_type": "markdown",
   "id": "d30c30d4",
   "metadata": {},
   "source": [
    "### EDA\n",
    "EDA Goes into further detail\n",
    "* notebook/Project_EDA_001_001.ipynb\n",
    "* notebook/Project_EDA_002_001.ipynb"
   ]
  },
  {
   "cell_type": "code",
   "execution_count": null,
   "id": "3192fcb9",
   "metadata": {
    "vscode": {
     "languageId": "plaintext"
    }
   },
   "outputs": [],
   "source": []
  },
  {
   "cell_type": "markdown",
   "id": "65e56508",
   "metadata": {},
   "source": [
    "### Notebook with model training\n",
    "\n",
    "notebook/Project_Model_Training.ipynb"
   ]
  },
  {
   "cell_type": "markdown",
   "id": "3359cb92",
   "metadata": {},
   "source": []
  },
  {
   "cell_type": "markdown",
   "id": "fbd3bf19",
   "metadata": {},
   "source": []
  },
  {
   "cell_type": "markdown",
   "id": "b2291e03",
   "metadata": {
    "vscode": {
     "languageId": "plaintext"
    }
   },
   "source": [
    "Inside data_ingestion.py - src/components/data_ingestion.py\n",
    "\n",
    "```python\n",
    "\n",
    "\n",
    "```"
   ]
  }
 ],
 "metadata": {
  "language_info": {
   "name": "python"
  }
 },
 "nbformat": 4,
 "nbformat_minor": 5
}
