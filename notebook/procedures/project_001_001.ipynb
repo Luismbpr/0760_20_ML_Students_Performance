{
 "cells": [
  {
   "cell_type": "markdown",
   "metadata": {},
   "source": [
    "### Create virtual environment"
   ]
  },
  {
   "cell_type": "markdown",
   "metadata": {},
   "source": [
    "* Create Project Structure"
   ]
  },
  {
   "cell_type": "markdown",
   "metadata": {},
   "source": [
    "Create requirements.txt\n",
    "\n",
    "```Markdown\n",
    "ipykernel\n",
    "pandas\n",
    "numpy\n",
    "seaborn\n",
    "matplotlib\n",
    "scikit-learn\n",
    "Flask\n",
    "statsmodels\n",
    "requests\n",
    "dotenv\n",
    "catboost\n",
    "xgboost\n",
    "-e .\n",
    "```"
   ]
  },
  {
   "cell_type": "markdown",
   "metadata": {},
   "source": [
    "### Create setup.py"
   ]
  },
  {
   "cell_type": "markdown",
   "metadata": {},
   "source": [
    "inside setup.py - setup.py\n",
    "\n",
    "```Python\n",
    "from setuptools import find_packages, setup\n",
    "#import os\n",
    "from typing import List\n",
    "\n",
    "\n",
    "HYPHEN_E_DOT = '-e .'\n",
    "\n",
    "def get_requirements(file_path:str) -> List[str]:\n",
    "    \"\"\"\n",
    "    This function will return the list of requirements\n",
    "\n",
    "    Args\n",
    "        file_path\n",
    "    \n",
    "    Returns\n",
    "    \"\"\"\n",
    "    requirements = []\n",
    "    #with os.open(file_path, 'r') as file_obj:\n",
    "    with open(file_path) as file_obj:\n",
    "        requirements = file_obj.readlines()\n",
    "        requirements = [req.replace(\"\\n\", \"\") for req in requirements]\n",
    "\n",
    "        if HYPHEN_E_DOT in requirements:\n",
    "            #pass\n",
    "            requirements.remove(HYPHEN_E_DOT)\n",
    "    \n",
    "    return requirements\n",
    "\n",
    "setup(\n",
    "    name=\"0760_20_01_ML_Students_Performance\",\n",
    "    version='0.0.1',\n",
    "    author='Luismbpr',\n",
    "    author_email='NaN@gmail.com',\n",
    "    packages= find_packages(),\n",
    "    #install_requires=['pandas', 'numpy'],\n",
    "    install_requires=get_requirements(file_path='requirements.txt')\n",
    "\n",
    ")\n",
    "\n",
    "```\n",
    "\n",
    "#### When running the code and -e . is uncommented it will return the package information\n",
    "If \n",
    "\n",
    "Test the code by \n",
    "```shell\n",
    "## Activate virtual environment\n",
    "pip install -r requirements.txt\n",
    "\n",
    "cd ~\n",
    "source start_miniforge.sh\n",
    "cd '/Users/luis/Documents/Programming/dev/0760 Complete MLOps Bootcamp With 10 Plus End To End ML Projects Krish Naik/venv_0760_Complete_MLOps_Bootcamp_Krish_Naik_312_01/0760_Course/Section 20 End To End DS Project implementation With Mulitple AWS, Azure Deployment/0760_20_01_ML_Students_Performance/'\n",
    "conda activate venv_0760_20_01_ML_StudPerf\n",
    "```\n",
    "\n",
    "Along other files These were created:\n",
    "- 0760_20_01_ML_Students_Performance.egg-info/dependency_links.txt\n",
    "- 0760_20_01_ML_Students_Performance.egg-info/PKG-INFO"
   ]
  },
  {
   "cell_type": "markdown",
   "metadata": {},
   "source": [
    "Will comment -e . in requirements.txt"
   ]
  }
 ],
 "metadata": {
  "kernelspec": {
   "display_name": "venv_0760_20_01_ML_StudPerf",
   "language": "python",
   "name": "python3"
  },
  "language_info": {
   "codemirror_mode": {
    "name": "ipython",
    "version": 3
   },
   "file_extension": ".py",
   "mimetype": "text/x-python",
   "name": "python",
   "nbconvert_exporter": "python",
   "pygments_lexer": "ipython3",
   "version": "3.11.11"
  }
 },
 "nbformat": 4,
 "nbformat_minor": 2
}
